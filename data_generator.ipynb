{
 "cells": [
  {
   "cell_type": "code",
   "execution_count": 1,
   "metadata": {},
   "outputs": [],
   "source": [
    "# generate test data\n",
    "# data format\n",
    "# type t sx sy dx dy c index"
   ]
  },
  {
   "cell_type": "code",
   "execution_count": null,
   "metadata": {},
   "outputs": [],
   "source": [
    "    def generate_request_random(self):\n",
    "        self.requests_list = []\n",
    "        for i in range(self.request_num):\n",
    "            request_type = random.randint(0, 1)\n",
    "            t = bounded_normal(1 / 2 * self.time_max, 1 / 4 * self.time_max, 0, self.time_max)\n",
    "            s_x = bounded_normal(1 / 2 * self.map_size, 1 / 4 * self.map_size, 0, self.map_size)\n",
    "            s_y = bounded_normal(1 / 2 * self.map_size, 1 / 4 * self.map_size, 0, self.map_size)\n",
    "            d_x = bounded_normal(1 / 2 * self.map_size, 1 / 4 * self.map_size, 0, self.map_size)\n",
    "            d_y = bounded_normal(1 / 2 * self.map_size, 1 / 4 * self.map_size, 0, self.map_size)\n",
    "            if request_type == 0:\n",
    "                c = random.randint(self.supply_min, self.supply_max)\n",
    "            else:\n",
    "                c = random.randint(self.demand_min, self.demand_max)\n",
    "            self.requests_list.append([request_type, t, s_x, s_y, d_x, d_y, c, i])\n",
    "        pass\n",
    "TIME_MAX = \n",
    "MAP_SIZE = 100"
   ]
  }
 ],
 "metadata": {
  "kernelspec": {
   "display_name": "Python 3",
   "language": "python",
   "name": "python3"
  },
  "language_info": {
   "codemirror_mode": {
    "name": "ipython",
    "version": 3
   },
   "file_extension": ".py",
   "mimetype": "text/x-python",
   "name": "python",
   "nbconvert_exporter": "python",
   "pygments_lexer": "ipython3",
   "version": "3.6.5"
  }
 },
 "nbformat": 4,
 "nbformat_minor": 2
}
