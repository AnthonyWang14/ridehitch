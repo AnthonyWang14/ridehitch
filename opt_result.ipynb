{
 "cells": [
  {
   "cell_type": "code",
   "execution_count": 2,
   "metadata": {},
   "outputs": [],
   "source": [
    "import pulp\n",
    "filename = 'data/taxi1000.txtT60D70P100'\n",
    "adj_list = []\n",
    "cap_list = []\n",
    "left = []\n",
    "right = []\n",
    "links = []\n",
    "adj_list = []\n",
    "with open(filename, 'rt') as f:\n",
    "    idx = 0\n",
    "    for line in f:\n",
    "        d = [int(i) for i in line.strip().split()]\n",
    "        type_d = d[0]\n",
    "        cap_d = d[1]\n",
    "        cap_list.append(cap_d)\n",
    "        if type_d == 0:\n",
    "            left.append(idx)\n",
    "        else:\n",
    "            right.append(idx)\n",
    "        if type_d == 0:\n",
    "            for j in d[2:]:\n",
    "                links.append(str(idx)+' '+str(j))\n",
    "        idx += 1\n",
    "        adj_list.append(d[2:])"
   ]
  },
  {
   "cell_type": "code",
   "execution_count": 3,
   "metadata": {},
   "outputs": [],
   "source": [
    "x = pulp.LpVariable.dict('links', links, lowBound=0, upBound=1, cat=pulp.LpInteger)"
   ]
  },
  {
   "cell_type": "code",
   "execution_count": 4,
   "metadata": {},
   "outputs": [],
   "source": [
    "# objective: maximize the matchings\n",
    "max_matching = pulp.LpProblem('max matching', pulp.LpMaximize)\n",
    "max_matching += pulp.lpSum([x[l] for l in links])"
   ]
  },
  {
   "cell_type": "code",
   "execution_count": 5,
   "metadata": {},
   "outputs": [],
   "source": [
    "# constraints:\n",
    "for l in left:\n",
    "    l_links = []\n",
    "    cap_dict = {}\n",
    "    if len(adj_list[l]) > 0:\n",
    "        # print(l, adj_list[l])\n",
    "        for r in adj_list[l]:\n",
    "            link = str(l) + ' ' + str(r)\n",
    "            l_links.append(link)\n",
    "            cap_dict[link] = cap_list[r]\n",
    "        max_matching += pulp.lpSum([cap_dict[link]*x[link] for link in l_links]) <= cap_list[l]\n",
    "\n",
    "for r in right:\n",
    "    r_links = []\n",
    "    if len(adj_list[r]) > 0:\n",
    "        for l in adj_list[r]:\n",
    "            link = str(l) + ' ' + str(r)\n",
    "            r_links.append(link)\n",
    "        max_matching += pulp.lpSum([x[link] for link in r_links]) <= 1"
   ]
  },
  {
   "cell_type": "code",
   "execution_count": 6,
   "metadata": {},
   "outputs": [
    {
     "data": {
      "text/plain": [
       "1"
      ]
     },
     "execution_count": 6,
     "metadata": {},
     "output_type": "execute_result"
    }
   ],
   "source": [
    "max_matching.solve()"
   ]
  },
  {
   "cell_type": "code",
   "execution_count": 7,
   "metadata": {},
   "outputs": [
    {
     "name": "stdout",
     "output_type": "stream",
     "text": [
      "Optimal\n"
     ]
    }
   ],
   "source": [
    "print(pulp.LpStatus[max_matching.status])"
   ]
  },
  {
   "cell_type": "code",
   "execution_count": 8,
   "metadata": {},
   "outputs": [
    {
     "name": "stdout",
     "output_type": "stream",
     "text": [
      "428.0\n"
     ]
    }
   ],
   "source": [
    "opt = 0\n",
    "for link in links:\n",
    "    opt += x[link].value()\n",
    "print(opt)"
   ]
  },
  {
   "cell_type": "code",
   "execution_count": null,
   "metadata": {},
   "outputs": [],
   "source": []
  }
 ],
 "metadata": {
  "kernelspec": {
   "display_name": "Python 3",
   "language": "python",
   "name": "python3"
  }
 },
 "nbformat": 4,
 "nbformat_minor": 2
}
